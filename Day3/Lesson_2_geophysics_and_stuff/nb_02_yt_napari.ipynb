{
 "cells": [
  {
   "cell_type": "markdown",
   "id": "391a9679-4424-48ba-8949-fd05ed298fad",
   "metadata": {},
   "source": [
    "# yt-napari \n",
    "\n",
    "```\n",
    "pip install napari[pyQT5] yt-napari dask[distributed]\n",
    "```\n",
    "\n",
    "or if you care about QT versions\n",
    "\n",
    "```\n",
    "pip install napari[pyQT6] yt-napari \n",
    "```\n",
    "\n",
    "one other plugin:\n",
    "\n",
    "```\n",
    "pip install napari-simpleitk-image-processing\n",
    "```\n"
   ]
  },
  {
   "cell_type": "code",
   "execution_count": null,
   "id": "6f4f7fd0-f1a9-4b75-b2a8-cace9a1bbf82",
   "metadata": {},
   "outputs": [],
   "source": [
    "import napari \n",
    "from yt_napari.viewer import Scene\n",
    "import yt \n",
    "\n",
    "viewer = napari.Viewer()"
   ]
  },
  {
   "cell_type": "code",
   "execution_count": null,
   "id": "489db11b-5292-49bd-9edc-1209aa490c04",
   "metadata": {},
   "outputs": [],
   "source": [
    "\n",
    "ds = yt.load(\"IsolatedGalaxy/galaxy0030/galaxy0030\")\n",
    "\n",
    "yt_scene = Scene()\n",
    "\n",
    "left_edge = ds.domain_center - ds.arr([10, 10, 10], 'kpc')\n",
    "right_edge = ds.domain_center + ds.arr([10, 10, 10], 'kpc')\n",
    "yt_scene.add_region(viewer,\n",
    "                    ds,\n",
    "                    (\"enzo\", \"Density\"),\n",
    "                    left_edge = left_edge,\n",
    "                    right_edge = right_edge,\n",
    "                    resolution=(600, 600, 600),\n",
    "                    colormap=\"magma\",\n",
    "                    contrast_limits=(3.4, 6.4))\n",
    "\n",
    "yt_scene.add_region(viewer,\n",
    "                    ds,\n",
    "                    (\"enzo\", \"Temperature\"),\n",
    "                    left_edge = left_edge,\n",
    "                    right_edge = right_edge,\n",
    "                    resolution=(300, 300, 300),\n",
    "                    colormap=\"yellow\",\n",
    "                    contrast_limits=(4., 6.),\n",
    "                    opacity=0.6)"
   ]
  },
  {
   "cell_type": "markdown",
   "id": "83dee07c-4874-424e-8d60-ffc596b39618",
   "metadata": {},
   "source": [
    "Can also: \n",
    "\n",
    "* load from JSON file\n",
    "* load from GUI\n",
    "  \n",
    "https://yt-napari.readthedocs.io/en/latest/quickstart.html#loading-a-json-file-from-the-napari-gui"
   ]
  },
  {
   "cell_type": "markdown",
   "id": "37d09ab4-6df6-4d9a-bb59-04c6247ef8a6",
   "metadata": {},
   "source": [
    "## Loading timeseries slices with dask"
   ]
  },
  {
   "cell_type": "code",
   "execution_count": null,
   "id": "d07bb233-5ced-4e13-b62d-f3c70f156479",
   "metadata": {},
   "outputs": [],
   "source": [
    "from dask.distributed import Client"
   ]
  },
  {
   "cell_type": "code",
   "execution_count": null,
   "id": "63172f46-e873-436b-9b20-6289e213909f",
   "metadata": {},
   "outputs": [],
   "source": [
    "c = Client(n_workers=2, threads_per_worker=1)"
   ]
  },
  {
   "cell_type": "code",
   "execution_count": null,
   "id": "c1ee3989-d4e9-4eaf-9f6f-444d9a65a96f",
   "metadata": {},
   "outputs": [],
   "source": [
    "from yt_napari import timeseries\n",
    "\n",
    "viewer.layers.clear() \n",
    "\n",
    "slc = timeseries.Slice((\"enzo\", \"Density\"), \"x\", resolution=(400, 400))\n",
    "file_pattern = \"enzo_tiny_cosmology/DD????/DD????\"\n",
    "timeseries.add_to_viewer(viewer,\n",
    "                         slc, \n",
    "                         file_pattern=file_pattern, \n",
    "                         load_as_stack=True,\n",
    "                         use_dask=True,\n",
    "                         contrast_limits=(-1, 2),\n",
    "                         colormap = 'magma',\n",
    "                         name=\"Lazy density\")"
   ]
  },
  {
   "cell_type": "markdown",
   "id": "063673a4-66d1-4976-a6e6-3783a5ce5313",
   "metadata": {},
   "source": [
    "## The napai plugin ecosystem\n",
    "\n",
    "https://yt-napari.readthedocs.io/en/latest/tutorials.html\n",
    "* Interactive visualization with the wider plugin ecosystem\n",
    "* Image segmentation and classification with additional plugins\n",
    "\n",
    "https://www.napari-hub.org/"
   ]
  },
  {
   "cell_type": "code",
   "execution_count": null,
   "id": "ff1c872c-6686-496e-8d35-4a0ff77979f4",
   "metadata": {},
   "outputs": [],
   "source": [
    "viewer.layers.clear()"
   ]
  },
  {
   "cell_type": "code",
   "execution_count": null,
   "id": "59e58c30-df74-4e11-8793-a901bf429c21",
   "metadata": {},
   "outputs": [],
   "source": [
    "ds = yt.load_sample(\"Enzo_64\")\n",
    "\n",
    "yt_scene = Scene()\n",
    "\n",
    "left_edge = ds.domain_center - ds.arr([10, 10, 10], 'kpc')\n",
    "right_edge = ds.domain_center + ds.arr([10, 10, 10], 'kpc')\n",
    "yt_scene.add_region(viewer,\n",
    "                    ds,\n",
    "                    (\"gas\", \"density\"),\n",
    "                    left_edge = ds.domain_left_edge,\n",
    "                    right_edge = ds.domain_right_edge,\n",
    "                    rescale=True,\n",
    "                    resolution=(256, 256, 256),                    \n",
    "                    colormap=\"magma\",)\n",
    "\n",
    "yt_scene.add_region(viewer,\n",
    "                    ds,\n",
    "                    (\"gas\", \"density\"),\n",
    "                    left_edge = ds.domain_left_edge,\n",
    "                    right_edge = ds.domain_right_edge,\n",
    "                    resolution=(512, 512, 512),                    \n",
    "                    colormap=\"viridis\",)render plane manipulator to move the rendering plane and explore the image. Open the render "
   ]
  },
  {
   "cell_type": "markdown",
   "id": "d9928f46-fb4a-4968-8f35-48ff699e0a70",
   "metadata": {},
   "source": [
    "simple-itk:\n",
    "\n",
    "* Otsu multiple thresholds (drop to 128 bins, bump levels to 5)\n",
    "* Label statistics"
   ]
  },
  {
   "cell_type": "code",
   "execution_count": null,
   "id": "89b0d887-1728-49e3-add4-13e2bb5df185",
   "metadata": {},
   "outputs": [],
   "source": []
  }
 ],
 "metadata": {
  "kernelspec": {
   "display_name": "Python 3 (ipykernel)",
   "language": "python",
   "name": "python3"
  },
  "language_info": {
   "codemirror_mode": {
    "name": "ipython",
    "version": 3
   },
   "file_extension": ".py",
   "mimetype": "text/x-python",
   "name": "python",
   "nbconvert_exporter": "python",
   "pygments_lexer": "ipython3",
   "version": "3.10.18"
  }
 },
 "nbformat": 4,
 "nbformat_minor": 5
}
