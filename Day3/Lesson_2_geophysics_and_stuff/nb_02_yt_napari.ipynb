{
 "cells": [
  {
   "cell_type": "markdown",
   "id": "391a9679-4424-48ba-8949-fd05ed298fad",
   "metadata": {},
   "source": [
    "# yt-napari \n",
    "\n",
    "```\n",
    "pip install napari[pyQT5] yt-napari dask[distributed]\n",
    "```\n",
    "\n",
    "or if you care about QT versions\n",
    "\n",
    "```\n",
    "pip install napari[pyQT6] yt-napari \n",
    "```\n",
    "\n",
    "one other plugin:\n",
    "\n",
    "```\n",
    "pip install napari-simpleitk-image-processing\n",
    "```\n"
   ]
  },
  {
   "cell_type": "code",
   "execution_count": 1,
   "id": "6f4f7fd0-f1a9-4b75-b2a8-cace9a1bbf82",
   "metadata": {},
   "outputs": [
    {
     "name": "stderr",
     "output_type": "stream",
     "text": [
      "yt : [INFO     ] 2025-07-17 10:40:33,295 Parameters: current_time              = 0.0060000200028298\n",
      "yt : [INFO     ] 2025-07-17 10:40:33,296 Parameters: domain_dimensions         = [32 32 32]\n",
      "yt : [INFO     ] 2025-07-17 10:40:33,297 Parameters: domain_left_edge          = [0. 0. 0.]\n",
      "yt : [INFO     ] 2025-07-17 10:40:33,298 Parameters: domain_right_edge         = [1. 1. 1.]\n",
      "yt : [INFO     ] 2025-07-17 10:40:33,299 Parameters: cosmological_simulation   = 0\n",
      "Parsing Hierarchy : 100%|███████████████████| 173/173 [00:00<00:00, 9386.26it/s]\n",
      "yt : [INFO     ] 2025-07-17 10:40:33,337 Gathering a field list (this may take a moment.)\n"
     ]
    }
   ],
   "source": [
    "import napari \n",
    "from yt_napari.viewer import Scene\n",
    "import yt \n",
    "\n",
    "viewer = napari.Viewer()"
   ]
  },
  {
   "cell_type": "code",
   "execution_count": null,
   "id": "489db11b-5292-49bd-9edc-1209aa490c04",
   "metadata": {},
   "outputs": [],
   "source": [
    "\n",
    "ds = yt.load(\"IsolatedGalaxy/galaxy0030/galaxy0030\")\n",
    "\n",
    "yt_scene = Scene()\n",
    "\n",
    "left_edge = ds.domain_center - ds.arr([10, 10, 10], 'kpc')\n",
    "right_edge = ds.domain_center + ds.arr([10, 10, 10], 'kpc')\n",
    "yt_scene.add_region(viewer,\n",
    "                    ds,\n",
    "                    (\"enzo\", \"Density\"),\n",
    "                    left_edge = left_edge,\n",
    "                    right_edge = right_edge,\n",
    "                    resolution=(600, 600, 600),\n",
    "                    colormap=\"magma\",\n",
    "                    contrast_limits=(3.4, 6.4))\n",
    "\n",
    "yt_scene.add_region(viewer,\n",
    "                    ds,\n",
    "                    (\"enzo\", \"Temperature\"),\n",
    "                    left_edge = left_edge,\n",
    "                    right_edge = right_edge,\n",
    "                    resolution=(300, 300, 300),\n",
    "                    colormap=\"yellow\",\n",
    "                    contrast_limits=(4., 6.),\n",
    "                    opacity=0.6)"
   ]
  },
  {
   "cell_type": "markdown",
   "id": "83dee07c-4874-424e-8d60-ffc596b39618",
   "metadata": {},
   "source": [
    "Can also: \n",
    "\n",
    "* load from JSON file\n",
    "* load from GUI\n",
    "  \n",
    "https://yt-napari.readthedocs.io/en/latest/quickstart.html#loading-a-json-file-from-the-napari-gui"
   ]
  },
  {
   "cell_type": "markdown",
   "id": "37d09ab4-6df6-4d9a-bb59-04c6247ef8a6",
   "metadata": {},
   "source": [
    "## Loading timeseries slices with dask"
   ]
  },
  {
   "cell_type": "code",
   "execution_count": 2,
   "id": "d07bb233-5ced-4e13-b62d-f3c70f156479",
   "metadata": {},
   "outputs": [],
   "source": [
    "from dask.distributed import Client"
   ]
  },
  {
   "cell_type": "code",
   "execution_count": 3,
   "id": "63172f46-e873-436b-9b20-6289e213909f",
   "metadata": {},
   "outputs": [],
   "source": [
    "c = Client(n_workers=2, threads_per_worker=1)"
   ]
  },
  {
   "cell_type": "code",
   "execution_count": 4,
   "id": "c1ee3989-d4e9-4eaf-9f6f-444d9a65a96f",
   "metadata": {},
   "outputs": [
    {
     "name": "stderr",
     "output_type": "stream",
     "text": [
      "Parsing Hierarchy : 100%|██████████| 2/2 [00:00<00:00, 5540.69it/s]\n",
      "Parsing Hierarchy : 100%|██████████| 66/66 [00:00<00:00, 3873.78it/s]\n",
      "Parsing Hierarchy : 100%|██████████| 194/194 [00:00<00:00, 6972.60it/s]\n",
      "Parsing Hierarchy : 100%|██████████| 41/41 [00:00<00:00, 5251.21it/s]\n",
      "Parsing Hierarchy : 100%|██████████| 2/2 [00:00<00:00, 5805.27it/s]\n",
      "Parsing Hierarchy : 100%|██████████| 33/33 [00:00<00:00, 4389.99it/s]\n",
      "Parsing Hierarchy : 100%|██████████| 143/143 [00:00<00:00, 6711.41it/s]\n",
      "Parsing Hierarchy : 100%|██████████| 38/38 [00:00<00:00, 6887.50it/s]\n",
      "Parsing Hierarchy : 100%|██████████| 21/21 [00:00<00:00, 5437.06it/s]\n",
      "Parsing Hierarchy : 100%|██████████| 24/24 [00:00<00:00, 3176.60it/s]\n",
      "Parsing Hierarchy : 100%|██████████| 214/214 [00:00<00:00, 7763.53it/s]\n",
      "Parsing Hierarchy : 100%|██████████| 211/211 [00:00<00:00, 8782.79it/s]\n",
      "Parsing Hierarchy : 100%|██████████| 196/196 [00:00<00:00, 7283.84it/s]\n",
      "Parsing Hierarchy : 100%|██████████| 201/201 [00:00<00:00, 5289.09it/s]\n",
      "Parsing Hierarchy : 100%|██████████| 188/188 [00:00<00:00, 7046.60it/s]\n",
      "Parsing Hierarchy : 100%|██████████| 187/187 [00:00<00:00, 8221.37it/s]\n",
      "Parsing Hierarchy : 100%|██████████| 12/12 [00:00<00:00, 3645.64it/s]\n",
      "Parsing Hierarchy : 100%|██████████| 189/189 [00:00<00:00, 3369.62it/s]\n",
      "Parsing Hierarchy : 100%|██████████| 189/189 [00:00<00:00, 4543.53it/s]\n",
      "Parsing Hierarchy : 100%|██████████| 182/182 [00:00<00:00, 5200.66it/s]\n",
      "Parsing Hierarchy : 100%|██████████| 167/167 [00:00<00:00, 7356.81it/s]\n",
      "Parsing Hierarchy : 100%|██████████| 160/160 [00:00<00:00, 7267.35it/s]\n",
      "Parsing Hierarchy : 100%|██████████| 162/162 [00:00<00:00, 7688.13it/s]\n",
      "Parsing Hierarchy : 100%|██████████| 159/159 [00:00<00:00, 6854.71it/s]\n",
      "Parsing Hierarchy : 100%|██████████| 146/146 [00:00<00:00, 426.22it/s]\n",
      "Parsing Hierarchy : 100%|██████████| 146/146 [00:00<00:00, 5607.77it/s]\n",
      "Parsing Hierarchy : 100%|██████████| 143/143 [00:00<00:00, 7265.46it/s]\n",
      "Parsing Hierarchy : 100%|██████████| 3/3 [00:00<00:00, 6037.87it/s]\n",
      "Parsing Hierarchy : 100%|██████████| 147/147 [00:00<00:00, 7376.21it/s]\n",
      "Parsing Hierarchy : 100%|██████████| 137/137 [00:00<00:00, 3840.96it/s]\n",
      "Parsing Hierarchy : 100%|██████████| 139/139 [00:00<00:00, 6497.43it/s]\n",
      "Parsing Hierarchy : 100%|██████████| 132/132 [00:00<00:00, 5042.65it/s]\n",
      "Parsing Hierarchy : 100%|██████████| 120/120 [00:00<00:00, 7686.92it/s]\n",
      "Parsing Hierarchy : 100%|██████████| 132/132 [00:00<00:00, 7460.26it/s]\n",
      "Parsing Hierarchy : 100%|██████████| 114/114 [00:00<00:00, 4055.05it/s]\n",
      "Parsing Hierarchy : 100%|██████████| 123/123 [00:00<00:00, 7238.66it/s]\n",
      "Parsing Hierarchy : 100%|██████████| 2/2 [00:00<00:00, 8490.49it/s]\n",
      "Parsing Hierarchy : 100%|██████████| 105/105 [00:00<00:00, 9508.22it/s]\n",
      "Parsing Hierarchy : 100%|██████████| 104/104 [00:00<00:00, 8003.96it/s]\n",
      "Parsing Hierarchy : 100%|██████████| 111/111 [00:00<00:00, 5912.57it/s]\n",
      "Parsing Hierarchy : 100%|██████████| 94/94 [00:00<00:00, 6732.55it/s]\n",
      "Parsing Hierarchy : 100%|██████████| 99/99 [00:00<00:00, 6413.11it/s]\n",
      "Parsing Hierarchy : 100%|██████████| 86/86 [00:00<00:00, 6896.81it/s]\n",
      "Parsing Hierarchy : 100%|██████████| 76/76 [00:00<00:00, 3974.50it/s]\n",
      "Parsing Hierarchy : 100%|██████████| 55/55 [00:00<00:00, 2944.87it/s]\n",
      "Parsing Hierarchy : 100%|██████████| 66/66 [00:00<00:00, 6786.07it/s]\n",
      "Parsing Hierarchy : 100%|██████████| 54/54 [00:00<00:00, 3000.50it/s]\n",
      "Parsing Hierarchy : 100%|██████████| 2/2 [00:00<00:00, 2528.97it/s]\n",
      "Parsing Hierarchy : 100%|██████████| 2/2 [00:00<00:00, 5279.17it/s]\n",
      "Parsing Hierarchy : 100%|██████████| 66/66 [00:00<00:00, 5062.06it/s]\n",
      "Parsing Hierarchy : 100%|██████████| 143/143 [00:00<00:00, 7420.33it/s]\n",
      "Parsing Hierarchy : 100%|██████████| 194/194 [00:00<00:00, 5241.80it/s]\n",
      "Parsing Hierarchy : 100%|██████████| 41/41 [00:00<00:00, 5569.58it/s]\n",
      "Parsing Hierarchy : 100%|██████████| 38/38 [00:00<00:00, 5443.06it/s]\n",
      "Parsing Hierarchy : 100%|██████████| 33/33 [00:00<00:00, 8288.64it/s]\n",
      "Parsing Hierarchy : 100%|██████████| 24/24 [00:00<00:00, 3761.71it/s]\n",
      "Parsing Hierarchy : 100%|██████████| 21/21 [00:00<00:00, 7609.54it/s]\n",
      "Parsing Hierarchy : 100%|██████████| 214/214 [00:00<00:00, 7512.58it/s]\n",
      "Parsing Hierarchy : 100%|██████████| 211/211 [00:00<00:00, 7007.22it/s]\n",
      "Parsing Hierarchy : 100%|██████████| 201/201 [00:00<00:00, 8611.21it/s]\n",
      "Parsing Hierarchy : 100%|██████████| 196/196 [00:00<00:00, 4789.83it/s]\n",
      "Parsing Hierarchy : 100%|██████████| 187/187 [00:00<00:00, 4449.14it/s]\n",
      "Parsing Hierarchy : 100%|██████████| 188/188 [00:00<00:00, 5370.68it/s]\n",
      "Parsing Hierarchy : 100%|██████████| 12/12 [00:00<00:00, 7708.94it/s]\n",
      "Parsing Hierarchy : 100%|██████████| 189/189 [00:00<00:00, 7208.02it/s]\n",
      "Parsing Hierarchy : 100%|██████████| 182/182 [00:00<00:00, 7156.84it/s]\n",
      "Parsing Hierarchy : 100%|██████████| 189/189 [00:00<00:00, 7145.13it/s]\n",
      "Parsing Hierarchy : 100%|██████████| 167/167 [00:00<00:00, 6894.86it/s]\n",
      "Parsing Hierarchy : 100%|██████████| 160/160 [00:00<00:00, 7738.93it/s]\n",
      "Parsing Hierarchy : 100%|██████████| 159/159 [00:00<00:00, 8077.60it/s]\n",
      "Parsing Hierarchy : 100%|██████████| 162/162 [00:00<00:00, 5541.60it/s]\n",
      "Parsing Hierarchy : 100%|██████████| 146/146 [00:00<00:00, 7726.46it/s]\n",
      "Parsing Hierarchy : 100%|██████████| 146/146 [00:00<00:00, 7949.22it/s]\n",
      "Parsing Hierarchy : 100%|██████████| 3/3 [00:00<00:00, 8338.58it/s]\n",
      "Parsing Hierarchy : 100%|██████████| 143/143 [00:00<00:00, 7043.54it/s]\n",
      "Parsing Hierarchy : 100%|██████████| 137/137 [00:00<00:00, 8648.18it/s]\n",
      "Parsing Hierarchy : 100%|██████████| 147/147 [00:00<00:00, 4684.91it/s]\n",
      "Parsing Hierarchy : 100%|██████████| 132/132 [00:00<00:00, 6739.07it/s]\n",
      "Parsing Hierarchy : 100%|██████████| 132/132 [00:00<00:00, 4533.94it/s]\n",
      "Parsing Hierarchy : 100%|██████████| 139/139 [00:00<00:00, 3423.90it/s]\n",
      "Parsing Hierarchy : 100%|██████████| 120/120 [00:00<00:00, 4269.99it/s]\n",
      "Parsing Hierarchy : 100%|██████████| 123/123 [00:00<00:00, 3950.86it/s]\n",
      "Parsing Hierarchy : 100%|██████████| 105/105 [00:00<00:00, 6288.31it/s]\n",
      "Parsing Hierarchy : 100%|██████████| 114/114 [00:00<00:00, 7396.22it/s]\n",
      "Parsing Hierarchy : 100%|██████████| 2/2 [00:00<00:00, 4238.81it/s]\n",
      "Parsing Hierarchy : 100%|██████████| 111/111 [00:00<00:00, 9337.13it/s]\n",
      "Parsing Hierarchy : 100%|██████████| 104/104 [00:00<00:00, 7847.15it/s]\n",
      "Parsing Hierarchy : 100%|██████████| 99/99 [00:00<00:00, 4984.47it/s]\n",
      "Parsing Hierarchy : 100%|██████████| 94/94 [00:00<00:00, 4781.92it/s]\n",
      "Parsing Hierarchy : 100%|██████████| 76/76 [00:00<00:00, 5138.92it/s]\n",
      "Parsing Hierarchy : 100%|██████████| 86/86 [00:00<00:00, 6986.85it/s]\n",
      "Parsing Hierarchy : 100%|██████████| 66/66 [00:00<00:00, 7201.08it/s]\n",
      "Parsing Hierarchy : 100%|██████████| 55/55 [00:00<00:00, 5044.32it/s]\n",
      "Parsing Hierarchy : 100%|██████████| 2/2 [00:00<00:00, 4720.66it/s]\n",
      "Parsing Hierarchy : 100%|██████████| 54/54 [00:00<00:00, 4253.70it/s]\n",
      "Parsing Hierarchy : 100%|██████████| 120/120 [00:00<00:00, 7671.69it/s]\n",
      "Parsing Hierarchy : 100%|██████████| 114/114 [00:00<00:00, 6309.05it/s]\n",
      "Parsing Hierarchy : 100%|██████████| 120/120 [00:00<00:00, 8130.20it/s]\n",
      "Parsing Hierarchy : 100%|██████████| 104/104 [00:00<00:00, 8729.22it/s]\n",
      "Parsing Hierarchy : 100%|██████████| 38/38 [00:00<00:00, 11171.48it/s]\n",
      "Parsing Hierarchy : 100%|██████████| 66/66 [00:00<00:00, 8068.79it/s]\n",
      "Parsing Hierarchy : 100%|██████████| 111/111 [00:00<00:00, 8790.27it/s]\n",
      "Parsing Hierarchy : 100%|██████████| 147/147 [00:00<00:00, 8575.04it/s]\n",
      "Parsing Hierarchy : 100%|██████████| 160/160 [00:00<00:00, 9067.05it/s]\n",
      "Parsing Hierarchy : 100%|██████████| 201/201 [00:00<00:00, 9415.72it/s]\n"
     ]
    }
   ],
   "source": [
    "from yt_napari import timeseries\n",
    "\n",
    "viewer.layers.clear() \n",
    "\n",
    "slc = timeseries.Slice((\"enzo\", \"Density\"), \"x\", resolution=(400, 400))\n",
    "file_pattern = \"enzo_tiny_cosmology/DD????/DD????\"\n",
    "timeseries.add_to_viewer(viewer,\n",
    "                         slc, \n",
    "                         file_pattern=file_pattern, \n",
    "                         load_as_stack=True,\n",
    "                         use_dask=True,\n",
    "                         contrast_limits=(-1, 2),\n",
    "                         colormap = 'magma',\n",
    "                         name=\"Lazy density\")"
   ]
  },
  {
   "cell_type": "markdown",
   "id": "063673a4-66d1-4976-a6e6-3783a5ce5313",
   "metadata": {},
   "source": [
    "## The napai plugin ecosystem\n",
    "\n",
    "https://yt-napari.readthedocs.io/en/latest/tutorials.html\n",
    "* Interactive visualization with the wider plugin ecosystem\n",
    "* Image segmentation and classification with additional plugins\n",
    "\n",
    "https://www.napari-hub.org/"
   ]
  },
  {
   "cell_type": "code",
   "execution_count": 8,
   "id": "ff1c872c-6686-496e-8d35-4a0ff77979f4",
   "metadata": {},
   "outputs": [],
   "source": [
    "viewer.layers.clear()"
   ]
  },
  {
   "cell_type": "code",
   "execution_count": 9,
   "id": "59e58c30-df74-4e11-8793-a901bf429c21",
   "metadata": {},
   "outputs": [
    {
     "name": "stderr",
     "output_type": "stream",
     "text": [
      "yt : [INFO     ] 2025-07-17 10:46:04,354 Sample dataset found in '/home/chavlin/data/yt_data/yt_sample_sets/Enzo_64/DD0043/data0043'\n",
      "yt : [INFO     ] 2025-07-17 10:46:04,621 Parameters: current_time              = 645.81707236914\n",
      "yt : [INFO     ] 2025-07-17 10:46:04,622 Parameters: domain_dimensions         = [64 64 64]\n",
      "yt : [INFO     ] 2025-07-17 10:46:04,624 Parameters: domain_left_edge          = [0. 0. 0.]\n",
      "yt : [INFO     ] 2025-07-17 10:46:04,628 Parameters: domain_right_edge         = [1. 1. 1.]\n",
      "yt : [INFO     ] 2025-07-17 10:46:04,630 Parameters: cosmological_simulation   = 1\n",
      "yt : [INFO     ] 2025-07-17 10:46:04,631 Parameters: current_redshift          = 0.0013930880640796\n",
      "yt : [INFO     ] 2025-07-17 10:46:04,633 Parameters: omega_lambda              = 0.7\n",
      "yt : [INFO     ] 2025-07-17 10:46:04,634 Parameters: omega_matter              = 0.3\n",
      "yt : [INFO     ] 2025-07-17 10:46:04,636 Parameters: omega_radiation           = 0.0\n",
      "yt : [INFO     ] 2025-07-17 10:46:04,639 Parameters: hubble_constant           = 0.71\n",
      "Parsing Hierarchy : 100%|███████████████████| 752/752 [00:00<00:00, 6296.69it/s]\n",
      "yt : [INFO     ] 2025-07-17 10:46:05,206 Gathering a field list (this may take a moment.)\n"
     ]
    },
    {
     "name": "stdout",
     "output_type": "stream",
     "text": [
      "Napari status bar display of label properties disabled because https://github.com/napari/napari/issues/5417 and https://github.com/napari/napari/issues/4342\n"
     ]
    }
   ],
   "source": [
    "ds = yt.load_sample(\"Enzo_64\")\n",
    "\n",
    "yt_scene = Scene()\n",
    "\n",
    "left_edge = ds.domain_center - ds.arr([10, 10, 10], 'kpc')\n",
    "right_edge = ds.domain_center + ds.arr([10, 10, 10], 'kpc')\n",
    "yt_scene.add_region(viewer,\n",
    "                    ds,\n",
    "                    (\"gas\", \"density\"),\n",
    "                    left_edge = ds.domain_left_edge,\n",
    "                    right_edge = ds.domain_right_edge,\n",
    "                    rescale=True,\n",
    "                    resolution=(256, 256, 256),                    \n",
    "                    colormap=\"magma\",)\n",
    "\n",
    "yt_scene.add_region(viewer,\n",
    "                    ds,\n",
    "                    (\"gas\", \"temperature\"),\n",
    "                    left_edge = ds.domain_left_edge,\n",
    "                    right_edge = ds.domain_right_edge,\n",
    "                    resolution=(512, 512, 512),                    \n",
    "                    colormap=\"viridis\",)"
   ]
  },
  {
   "cell_type": "markdown",
   "id": "d9928f46-fb4a-4968-8f35-48ff699e0a70",
   "metadata": {},
   "source": [
    "simple-itk:\n",
    "\n",
    "* Otsu multiple thresholds (drop to 128 bins, bump levels to 5)\n",
    "* Label statistics"
   ]
  },
  {
   "cell_type": "code",
   "execution_count": null,
   "id": "89b0d887-1728-49e3-add4-13e2bb5df185",
   "metadata": {},
   "outputs": [],
   "source": []
  }
 ],
 "metadata": {
  "kernelspec": {
   "display_name": "Python 3 (ipykernel)",
   "language": "python",
   "name": "python3"
  },
  "language_info": {
   "codemirror_mode": {
    "name": "ipython",
    "version": 3
   },
   "file_extension": ".py",
   "mimetype": "text/x-python",
   "name": "python",
   "nbconvert_exporter": "python",
   "pygments_lexer": "ipython3",
   "version": "3.10.18"
  }
 },
 "nbformat": 4,
 "nbformat_minor": 5
}
