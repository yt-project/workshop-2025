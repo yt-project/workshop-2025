{
 "cells": [
  {
   "cell_type": "markdown",
   "id": "f356d885-7171-4774-b49d-23a5d6cd637e",
   "metadata": {},
   "source": [
    "# yt_aspect (and general yt config)\n",
    "\n",
    "ASPECT: https://aspect.geodynamics.org/ \n",
    "\n",
    "An externally packaged frontend!\n",
    "\n",
    "```python\n",
    "pip install yt_aspect\n",
    "```\n",
    "\n",
    "Both ASPECT and a generic .pvtu loader"
   ]
  },
  {
   "cell_type": "code",
   "execution_count": null,
   "id": "10078595-99c6-42eb-9b8f-9bbb79ed3335",
   "metadata": {},
   "outputs": [],
   "source": [
    "import yt \n",
    "import os\n",
    "\n",
    "files = list(os.listdir(os.path.join(yt.config.ytcfg.get('yt','test_data_dir'), \n",
    "                        'aspect/output_shell_simple_2d/solution/')))\n",
    "files.sort()\n",
    "print(\"\\n\".join(files))"
   ]
  },
  {
   "cell_type": "markdown",
   "id": "a7acaee0-7735-48cb-99af-3956b43e3ae3",
   "metadata": {},
   "source": [
    "## aside: yt config \n",
    "\n",
    "https://yt-project.org/doc/reference/configuration.html#the-configuration\n",
    "\n"
   ]
  },
  {
   "cell_type": "code",
   "execution_count": null,
   "id": "86b4002a-5acc-4da8-b286-4e2248dced0c",
   "metadata": {},
   "outputs": [],
   "source": [
    "yt.config.ytcfg"
   ]
  },
  {
   "cell_type": "markdown",
   "id": "14506800-ebb9-4238-9ca2-9fb045102653",
   "metadata": {},
   "source": [
    "## back to ASPECT ..."
   ]
  },
  {
   "cell_type": "code",
   "execution_count": null,
   "id": "2ae008f3-be71-4600-a64b-77ae620c5773",
   "metadata": {},
   "outputs": [],
   "source": [
    "import yt\n",
    "import yt_aspect  # registers with yt"
   ]
  },
  {
   "cell_type": "code",
   "execution_count": null,
   "id": "74e28219-9c96-4c06-b0ce-9c5a6748f301",
   "metadata": {},
   "outputs": [],
   "source": [
    "# 2d thermal convection in a spherical shell (but data is cartesian)\n",
    "# give path to the `.pvtu`, it will handle the `.vtu` chunks - but will concatenate :( \n",
    "ds = yt.load('aspect/output_shell_simple_2d/solution/solution-00004.pvtu')"
   ]
  },
  {
   "cell_type": "code",
   "execution_count": null,
   "id": "76db2434-d4ca-4ae2-82d4-655a0bb0cf55",
   "metadata": {},
   "outputs": [],
   "source": [
    "ds.field_list"
   ]
  },
  {
   "cell_type": "code",
   "execution_count": null,
   "id": "3b9ea191-e89e-4729-8d4e-571e83d617a4",
   "metadata": {},
   "outputs": [],
   "source": [
    "slc = yt.plot_2d(ds, ('all', 'T'))\n",
    "slc.set_cmap(('all', 'T'), 'magma')\n",
    "slc.annotate_mesh_lines(color=(1., 1., 1., 0.1))\n",
    "slc.annotate_streamlines(('all', 'velocity_x'), ('all', 'velocity_y'))"
   ]
  },
  {
   "cell_type": "code",
   "execution_count": null,
   "id": "596d8e21-5481-4748-a2e6-f7964ebca47a",
   "metadata": {},
   "outputs": [],
   "source": []
  }
 ],
 "metadata": {
  "kernelspec": {
   "display_name": "Python 3 (ipykernel)",
   "language": "python",
   "name": "python3"
  },
  "language_info": {
   "codemirror_mode": {
    "name": "ipython",
    "version": 3
   },
   "file_extension": ".py",
   "mimetype": "text/x-python",
   "name": "python",
   "nbconvert_exporter": "python",
   "pygments_lexer": "ipython3",
   "version": "3.10.18"
  }
 },
 "nbformat": 4,
 "nbformat_minor": 5
}
