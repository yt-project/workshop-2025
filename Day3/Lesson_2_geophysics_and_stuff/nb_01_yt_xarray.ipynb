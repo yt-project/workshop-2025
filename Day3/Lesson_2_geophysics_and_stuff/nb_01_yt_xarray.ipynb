{
 "cells": [
  {
   "cell_type": "markdown",
   "id": "ce68e597-7821-4b36-9d2f-e642da982bfa",
   "metadata": {},
   "source": [
    "# yt_xarray \n",
    "\n",
    "An xarray \"accessor\" interface to yt (for gridded data)\n",
    "\n",
    "* Main docs: https://yt-xarray.readthedocs.io/en/latest/\n",
    "* 2024 NASA Software Workshop Jupyter Book: [presentation](https://chrishavlin.github.io/NASASoftwareWorkshop2024/intro.html) and [code](https://github.com/data-exp-lab/yt_xarray_NASA_SMD_2024) \n",
    "\n",
    "Extra requirements:\n",
    "\n",
    "```\n",
    "pip install yt_xarray scipy xarray netCDF4 cartopy\n",
    "```\n",
    "\n",
    "```\n",
    "wget https://yt2025data.hub.yt/geo/wUS-SH-2010_percent.nc\n",
    "```\n",
    "\n"
   ]
  },
  {
   "cell_type": "code",
   "execution_count": null,
   "id": "be94fb20-aba9-4db1-bda3-9c063072ef44",
   "metadata": {},
   "outputs": [],
   "source": [
    "import yt_xarray\n",
    "\n",
    "ds = yt_xarray.open_dataset(\"IRIS/wUS-SH-2010_percent.nc\")\n",
    "type(ds)"
   ]
  },
  {
   "cell_type": "code",
   "execution_count": null,
   "id": "11bd7bdd-5f69-434a-b31a-4275b8af3318",
   "metadata": {},
   "outputs": [],
   "source": [
    "ds"
   ]
  },
  {
   "cell_type": "code",
   "execution_count": null,
   "id": "39eee78a-9fd5-41c1-a469-49f39d9ca920",
   "metadata": {},
   "outputs": [],
   "source": [
    "ds.dvp.isel({'depth': 1}).plot()"
   ]
  },
  {
   "cell_type": "code",
   "execution_count": null,
   "id": "f5886e95-ce8f-41e6-9e0c-d3c62d9225fd",
   "metadata": {},
   "outputs": [],
   "source": [
    "# ds.yt."
   ]
  },
  {
   "cell_type": "code",
   "execution_count": null,
   "id": "0928dcee-9f9d-4739-b322-520963bbb26b",
   "metadata": {},
   "outputs": [],
   "source": [
    "import cartopy.feature as cfeature\n",
    "\n",
    "c=(125, 39., -110.625)\n",
    "slc = ds.yt.SlicePlot('depth', 'dvs', center=c)\n",
    "\n",
    "slc.set_mpl_projection(('Mollweide', (), {'central_longitude':c[2]}))\n",
    "\n",
    "slc.set_log(('stream', 'dvs'), False)\n",
    "slc.set_zlim(('stream', 'dvs'), -4, 4)\n",
    "slc.set_cmap(('stream', 'dvs'), 'PRGn')\n",
    "slc.render()  # render before making axes modifications \n",
    "\n",
    "slc.plots['stream', 'dvs'].axes.add_feature(cfeature.STATES)\n",
    " \n",
    "slc.show()"
   ]
  },
  {
   "cell_type": "code",
   "execution_count": null,
   "id": "6514adb8-7ea3-4bc8-bdc8-019ca1ac38fe",
   "metadata": {},
   "outputs": [],
   "source": []
  },
  {
   "cell_type": "code",
   "execution_count": null,
   "id": "fd99a0ea-bf7c-4a2c-8fc7-633bd7a29fc5",
   "metadata": {},
   "outputs": [],
   "source": [
    "ds.yt.PhasePlot"
   ]
  },
  {
   "cell_type": "markdown",
   "id": "3163d65c-aa09-410c-b715-db8f479e6922",
   "metadata": {},
   "source": [
    "just 3d arrays, can do:"
   ]
  },
  {
   "cell_type": "code",
   "execution_count": null,
   "id": "b9ca9e01-ab85-4dff-bfae-9f0616df7db5",
   "metadata": {},
   "outputs": [],
   "source": [
    "ds_yt = ds.yt.load_grid()"
   ]
  },
  {
   "cell_type": "markdown",
   "id": "96b61b40-6b2e-4520-a129-c9a25e6a8db9",
   "metadata": {},
   "source": [
    "Other datasets\n",
    "\n",
    "```python\n",
    "ds_yt = ds.yt.load_grid(sel_dict={'time': 0})\n",
    "```"
   ]
  },
  {
   "cell_type": "code",
   "execution_count": null,
   "id": "b438a71b-197e-4bd6-bd6e-7098048ecd83",
   "metadata": {},
   "outputs": [],
   "source": []
  },
  {
   "cell_type": "code",
   "execution_count": null,
   "id": "67416f25-de9a-49aa-aef3-754afba1faa7",
   "metadata": {},
   "outputs": [],
   "source": [
    "ds_yt.coordinates.axis_order"
   ]
  },
  {
   "cell_type": "code",
   "execution_count": null,
   "id": "0eaf6e7d-976b-41e9-8bdb-1705b3298358",
   "metadata": {},
   "outputs": [],
   "source": [
    "ds_yt.coordinates.name"
   ]
  },
  {
   "cell_type": "code",
   "execution_count": null,
   "id": "982c845e-48c5-4fbf-a743-e9a03038fe15",
   "metadata": {},
   "outputs": [],
   "source": []
  },
  {
   "cell_type": "code",
   "execution_count": null,
   "id": "a59f53b0-cdfc-4ace-9ad2-f5fff0dfb9e0",
   "metadata": {},
   "outputs": [],
   "source": [
    "import yt \n",
    "p = yt.PhasePlot(ds_yt, 'dvs', 'dvp', ('index', 'cell_volume'), weight_field=None)\n",
    "p.set_log('dvs', False)\n",
    "p.set_log('dvp', False)"
   ]
  },
  {
   "cell_type": "code",
   "execution_count": null,
   "id": "fd100c46-7dad-4215-bc12-fd400c15da35",
   "metadata": {},
   "outputs": [],
   "source": [
    "import cartopy.feature as cfeature\n",
    "\n",
    "ys = ds_yt.arr([90., 45., -110], 'code_length')\n",
    "wid = ds_yt.arr([ds_yt.domain_width[0].d, 10., 20.], 'code_length')\n",
    "\n",
    "slc = yt.ProjectionPlot(ds_yt,\n",
    "                      'depth', \n",
    "                      'dvs', \n",
    "                      center=ys, \n",
    "                      width=(wid[2], wid[1]), \n",
    "                      data_source=ds_yt.region(ys, ys-wid/2, ys+wid/2), \n",
    "                      weight_field=('index', 'cell_volume'),\n",
    "                    )\n",
    "\n",
    "slc.set_mpl_projection(('Mollweide', (), {'central_longitude':ys[2].d}))\n",
    "\n",
    "slc.set_log(('stream', 'dvs'), False)\n",
    "slc.set_cmap(('stream', 'dvs'), 'PRGn')\n",
    "slc.render()  # render before making axes modifications \n",
    "\n",
    "slc.plots['stream', 'dvs'].axes.add_feature(cfeature.STATES)\n",
    " \n",
    "slc.show()"
   ]
  },
  {
   "cell_type": "markdown",
   "id": "17e813c6-52ca-4295-b2f6-e1d7b2472589",
   "metadata": {},
   "source": [
    "## Embedded transformations"
   ]
  },
  {
   "cell_type": "code",
   "execution_count": null,
   "id": "70a37c85-db61-4a9d-a704-dd217ed24aa1",
   "metadata": {},
   "outputs": [],
   "source": [
    "from yt_xarray import transformations as tf\n",
    "\n",
    "gc = tf.GeocentricCartesian(radial_type='depth', r_o=6371., use_neg_lons=True)\n",
    "\n",
    "ds_yt_cart = tf.build_interpolated_cartesian_ds(\n",
    "    ds,\n",
    "    gc,\n",
    "    fields = 'dvs' ,   \n",
    "    grid_resolution = (32, 32, 32), \n",
    "    refine_grid=True,    \n",
    "    refine_max_iters=2000,\n",
    "    refine_min_grid_size=4,\n",
    "    refine_by=4,\n",
    "    interp_method='interpolate',\n",
    "    refinement_method='signature_filter', # use  Berger and Rigoutsos 1991 \n",
    ")"
   ]
  },
  {
   "cell_type": "code",
   "execution_count": null,
   "id": "cd640a04-4976-41af-a809-5deedbf60f11",
   "metadata": {},
   "outputs": [],
   "source": [
    "slc = yt.SlicePlot(ds_yt_cart, 'x', ('stream', 'dvs'))\n",
    "slc.set_log((\"stream\", \"dvs\"), False)\n",
    "slc.set_cmap((\"stream\", \"dvs\"), \"magma_r\")\n",
    "slc.set_zlim((\"stream\", \"dvs\"), -6, 6)\n",
    "slc.annotate_cell_edges(alpha=0.2)\n",
    "slc.annotate_grids(edgecolors=(1.,0,0,0))\n",
    "slc.show()"
   ]
  },
  {
   "cell_type": "code",
   "execution_count": null,
   "id": "28e2f5f5-0ad1-4362-9d09-39ea13fd93d8",
   "metadata": {},
   "outputs": [],
   "source": []
  },
  {
   "cell_type": "code",
   "execution_count": null,
   "id": "1f43ea96-9b8f-4b42-ba5d-6ccf23642aac",
   "metadata": {},
   "outputs": [],
   "source": [
    "import numpy as np\n",
    "\n",
    "def _dvs_not_nan(field, data):\n",
    "    return ~np.isnan(data['dvs'])\n",
    "\n",
    "ds_yt_cart.add_field(\n",
    "    name=(\"stream\", \"dvs_not_nan\"),\n",
    "    function=_dvs_not_nan,\n",
    "    sampling_type=\"local\",\n",
    "    units='',\n",
    "    force_override=True,\n",
    ")"
   ]
  },
  {
   "cell_type": "code",
   "execution_count": null,
   "id": "f211147a-67e7-4e26-a427-f334901b96f1",
   "metadata": {},
   "outputs": [],
   "source": [
    "slc = yt.ProjectionPlot(ds_yt_cart, 'x', ('stream', 'dvs_not_nan'), weight_field=None)\n",
    "slc.set_log((\"stream\", \"dvs_not_nan\"), False)\n",
    "slc.set_cmap((\"stream\", \"dvs_not_nan\"), \"octarine\")\n",
    "slc.annotate_grids(edgecolors=(1.,0,0,0))\n",
    "slc.show()"
   ]
  },
  {
   "cell_type": "markdown",
   "id": "9d6254f9-cbdf-4056-9100-55dd3a9baad7",
   "metadata": {},
   "source": [
    "Can volume render!\n",
    "\n",
    "First: add a field of just the slow velocity anomalies (<0)"
   ]
  },
  {
   "cell_type": "code",
   "execution_count": null,
   "id": "a0e217f3-062c-4bb9-a028-e434d3f69a76",
   "metadata": {},
   "outputs": [],
   "source": [
    "import numpy\n",
    "import unyt \n",
    "\n",
    "# add a nice field... volume rendering with observational data is hard...\n",
    "# - fill in nans\n",
    "# - full dvs is +/-, look at just -, make it + \n",
    "def _slow_vels(field, data):    \n",
    "    dvs = data['dvs'].d.copy()\n",
    "    dvs[np.isnan(dvs)] = 0.0\n",
    "    dvs[dvs>0] = 0.0\n",
    "    return unyt.unyt_array(np.abs(dvs),\"\")\n",
    "\n",
    "ds_yt_cart.add_field(\n",
    "    name=(\"stream\", \"slow_dvs\"),\n",
    "    function=_slow_vels,\n",
    "    sampling_type=\"local\",\n",
    "    units=\"\",    \n",
    ")\n"
   ]
  },
  {
   "cell_type": "code",
   "execution_count": null,
   "id": "13703e95-53d4-45b1-b210-4df86ffd3c38",
   "metadata": {},
   "outputs": [],
   "source": [
    "sc = yt.create_scene(ds_yt_cart, field=('stream', 'slow_dvs'))\n",
    "cam = sc.add_camera(ds_yt_cart)\n",
    "\n",
    "# transfer function \n",
    "source = sc[0]\n",
    "source.tfh.set_bounds((0.1, 8))\n",
    "source.tfh.set_log(True)\n",
    "\n",
    "# adjust camera\n",
    "cam.zoom(2)\n",
    "cam.yaw(100*np.pi/180)\n",
    "cam.roll(220*np.pi/180)\n",
    "cam.rotate(30*np.pi/180)\n",
    "cam.set_resolution((1000,1000))\n",
    "\n",
    "sc.show(sigma_clip=5.)"
   ]
  },
  {
   "cell_type": "code",
   "execution_count": null,
   "id": "d424aa48-19a4-49e4-9087-840f6bbc2318",
   "metadata": {},
   "outputs": [],
   "source": []
  },
  {
   "cell_type": "code",
   "execution_count": null,
   "id": "4f6fa13b-894e-4826-8f58-63ce4e19e234",
   "metadata": {},
   "outputs": [],
   "source": []
  }
 ],
 "metadata": {
  "kernelspec": {
   "display_name": "Python 3 (ipykernel)",
   "language": "python",
   "name": "python3"
  },
  "language_info": {
   "codemirror_mode": {
    "name": "ipython",
    "version": 3
   },
   "file_extension": ".py",
   "mimetype": "text/x-python",
   "name": "python",
   "nbconvert_exporter": "python",
   "pygments_lexer": "ipython3",
   "version": "3.10.18"
  }
 },
 "nbformat": 4,
 "nbformat_minor": 5
}
