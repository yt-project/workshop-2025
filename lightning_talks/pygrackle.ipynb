{
 "cells": [
  {
   "cell_type": "code",
   "execution_count": null,
   "id": "f38350e8-51b6-4a64-bcd5-7173ac5a624b",
   "metadata": {},
   "outputs": [],
   "source": [
    "import numpy as np\n",
    "import yt"
   ]
  },
  {
   "cell_type": "code",
   "execution_count": null,
   "id": "c8c91271-e4fc-46cb-8adf-ee09e5f1c73c",
   "metadata": {},
   "outputs": [],
   "source": [
    "ds = yt.load(\"/Users/britton/EnzoRuns/yt-workshop-2025/primordial_star/DD0157/DD0157\")"
   ]
  },
  {
   "cell_type": "code",
   "execution_count": null,
   "id": "4650334d-949c-49c5-9fde-caa7a37de581",
   "metadata": {},
   "outputs": [],
   "source": [
    "v, c = ds.find_max((\"gas\", \"density\"))"
   ]
  },
  {
   "cell_type": "code",
   "execution_count": null,
   "id": "349b7390-46eb-4c4f-a0ef-aa31c300eb28",
   "metadata": {},
   "outputs": [],
   "source": [
    "sp = ds.sphere(c, (5, \"pc\"))"
   ]
  },
  {
   "cell_type": "code",
   "execution_count": null,
   "id": "eb7bafb6-08f9-4202-954f-99efb159cb1b",
   "metadata": {},
   "outputs": [],
   "source": [
    "ct0 = sp[\"gas\", \"cooling_time\"].to(\"Myr\")"
   ]
  },
  {
   "cell_type": "code",
   "execution_count": null,
   "id": "728b6311-b008-4d82-93be-c9f502a42f59",
   "metadata": {},
   "outputs": [],
   "source": []
  },
  {
   "cell_type": "code",
   "execution_count": null,
   "id": "1d040432-3d41-4d4e-b370-9b9ee70a7a08",
   "metadata": {},
   "outputs": [],
   "source": []
  },
  {
   "cell_type": "code",
   "execution_count": null,
   "id": "da2094c7-887e-4ab4-97fc-4a6ffda585b4",
   "metadata": {},
   "outputs": [],
   "source": [
    "from pygrackle import add_grackle_fields"
   ]
  },
  {
   "cell_type": "code",
   "execution_count": null,
   "id": "ba8c81c5-66e1-4441-9a26-fbcfc3acad86",
   "metadata": {},
   "outputs": [],
   "source": [
    "add_grackle_fields(ds)"
   ]
  },
  {
   "cell_type": "code",
   "execution_count": null,
   "id": "29e259c5-6c2f-46cc-8510-31f6d15f90f1",
   "metadata": {},
   "outputs": [],
   "source": [
    "ct1 = sp[\"gas\", \"grackle_cooling_time\"]"
   ]
  },
  {
   "cell_type": "code",
   "execution_count": null,
   "id": "59b5e3ca-cc64-4a0c-b1ba-41ebe02ee792",
   "metadata": {},
   "outputs": [],
   "source": [
    "np.abs(ct0/ct1)"
   ]
  },
  {
   "cell_type": "code",
   "execution_count": null,
   "id": "8d9153c4-8352-407f-bcd5-195cd3e653a9",
   "metadata": {},
   "outputs": [],
   "source": []
  },
  {
   "cell_type": "code",
   "execution_count": null,
   "id": "e710ca74-71ee-4a27-b8eb-888481f95210",
   "metadata": {},
   "outputs": [],
   "source": [
    "ds.parameters[\"CIECooling\"]"
   ]
  },
  {
   "cell_type": "code",
   "execution_count": null,
   "id": "bb1b5d39-deae-473d-9a3e-adfac634a413",
   "metadata": {},
   "outputs": [],
   "source": [
    "new_pars = {\"cie_cooling\": 0}"
   ]
  },
  {
   "cell_type": "code",
   "execution_count": null,
   "id": "ba93afb5-135f-4099-99b3-0f6744318dcc",
   "metadata": {},
   "outputs": [],
   "source": [
    "add_grackle_fields(ds, parameters=new_pars)"
   ]
  },
  {
   "cell_type": "code",
   "execution_count": null,
   "id": "5d71f34e-f86b-442f-bddd-e31a71aa23c2",
   "metadata": {},
   "outputs": [],
   "source": [
    "sp.clear_data()"
   ]
  },
  {
   "cell_type": "code",
   "execution_count": null,
   "id": "903fea8e-6754-438b-bf47-8a0dab41b15e",
   "metadata": {},
   "outputs": [],
   "source": [
    "ct2 = sp[\"gas\", \"grackle_cooling_time\"]"
   ]
  },
  {
   "cell_type": "code",
   "execution_count": null,
   "id": "32e7cef7-d75e-410d-9aec-9adf6c479348",
   "metadata": {},
   "outputs": [],
   "source": [
    "(ct1 / ct2).max()"
   ]
  }
 ],
 "metadata": {
  "kernelspec": {
   "display_name": "Python 3 (ipykernel)",
   "language": "python",
   "name": "python3"
  },
  "language_info": {
   "codemirror_mode": {
    "name": "ipython",
    "version": 3
   },
   "file_extension": ".py",
   "mimetype": "text/x-python",
   "name": "python",
   "nbconvert_exporter": "python",
   "pygments_lexer": "ipython3",
   "version": "3.10.18"
  }
 },
 "nbformat": 4,
 "nbformat_minor": 5
}
